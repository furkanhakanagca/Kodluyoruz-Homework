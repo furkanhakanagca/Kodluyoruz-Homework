{
 "cells": [
  {
   "cell_type": "markdown",
   "metadata": {},
   "source": [
    "## 1) Power(Iterative):\n",
    "\n",
    "Write a program that calculates n'th power of a given number iteratively"
   ]
  },
  {
   "cell_type": "code",
   "execution_count": 1,
   "metadata": {},
   "outputs": [],
   "source": [
    "def iter_power(x, n): # It sould return x^n, and yes you cannot use x**n for this problem -_-\n",
    "    pass"
   ]
  },
  {
   "cell_type": "code",
   "execution_count": 72,
   "metadata": {},
   "outputs": [],
   "source": [
    "def iter_power(x,n):\n",
    "    if n>1:\n",
    "        result = x\n",
    "        while n>1:\n",
    "            result = result*x\n",
    "            n = n - 1\n",
    "        return result\n",
    "    elif n==1:\n",
    "        return x\n",
    "    elif n==0:\n",
    "        return 1"
   ]
  },
  {
   "cell_type": "code",
   "execution_count": 76,
   "metadata": {},
   "outputs": [
    {
     "output_type": "execute_result",
     "data": {
      "text/plain": [
       "1"
      ]
     },
     "metadata": {},
     "execution_count": 76
    }
   ],
   "source": [
    "iter_power(3,0)"
   ]
  },
  {
   "cell_type": "markdown",
   "metadata": {},
   "source": [
    "## 2) Power(Recursive):\n",
    "\n",
    "Write a program that calculates n'th power of a given number recursively"
   ]
  },
  {
   "cell_type": "code",
   "execution_count": 70,
   "metadata": {},
   "outputs": [],
   "source": [
    "def recur_power(x, n):\n",
    "    if n==1:\n",
    "        return x\n",
    "    elif x==0:\n",
    "        return 1\n",
    "    else:\n",
    "        return x*recur_power(x,n-1)"
   ]
  },
  {
   "cell_type": "code",
   "execution_count": 71,
   "metadata": {},
   "outputs": [
    {
     "output_type": "execute_result",
     "data": {
      "text/plain": [
       "125"
      ]
     },
     "metadata": {},
     "execution_count": 71
    }
   ],
   "source": [
    "recur_power(5,3)"
   ]
  },
  {
   "cell_type": "markdown",
   "metadata": {},
   "source": [
    "### 3) Key with the maximum number of values:\n",
    "\n",
    "Given dictionary d, return a key that has a maximum value associated with it\n",
    "\n",
    "for example if d = {\"a\":[1,2,3], \"b\":[45,43,21,23], \"c\":[3,4,5]}\n",
    "\n",
    "it should return \"b\""
   ]
  },
  {
   "cell_type": "code",
   "execution_count": 66,
   "metadata": {},
   "outputs": [],
   "source": [
    "d1 = {\"a\":[1,2,3], \"b\":[45,43,21,23], \"c\":[3,4,5]}"
   ]
  },
  {
   "cell_type": "code",
   "execution_count": 67,
   "metadata": {},
   "outputs": [
    {
     "output_type": "execute_result",
     "data": {
      "text/plain": [
       "{'a': [1, 2, 3], 'b': [45, 43, 21, 23], 'c': [3, 4, 5]}"
      ]
     },
     "metadata": {},
     "execution_count": 67
    }
   ],
   "source": [
    "d1"
   ]
  },
  {
   "cell_type": "code",
   "execution_count": 68,
   "metadata": {},
   "outputs": [],
   "source": [
    "def max_key(d):\n",
    "    print(max(d, key=d.get))\n",
    "    pass"
   ]
  },
  {
   "cell_type": "code",
   "execution_count": 69,
   "metadata": {},
   "outputs": [
    {
     "output_type": "stream",
     "name": "stdout",
     "text": [
      "b\n"
     ]
    }
   ],
   "source": [
    "max_key(d1)"
   ]
  },
  {
   "cell_type": "markdown",
   "metadata": {},
   "source": [
    "### 4) Fibonacci serisini recursive olarak dictionary kullanarak yapmak \n",
    "\n",
    "fib(2) yi bir kere hesapladıysa başka bir function call'da bir daha hesaplamasın değerini dictionaryden bulup koysun gibi\n"
   ]
  },
  {
   "cell_type": "code",
   "execution_count": 64,
   "metadata": {},
   "outputs": [],
   "source": [
    "fib_dic = {\"values\" : [] }\n",
    "def fib(n):\n",
    "   if n == 0 or n ==1 :\n",
    "       return n\n",
    "   else:\n",
    "       return(fib(n-1) + fib(n-2))\n",
    "\n",
    "def fib_values(n):\n",
    "    if n <= 1:\n",
    "        fib_dic[\"values\"].append(n)\n",
    "        print(fib_dic)\n",
    "    else:\n",
    "        for i in range(n):\n",
    "            fib_dic[\"values\"].append(fib(i))\n",
    "        print(fib_dic)\n"
   ]
  },
  {
   "cell_type": "code",
   "execution_count": 65,
   "metadata": {},
   "outputs": [
    {
     "output_type": "stream",
     "name": "stdout",
     "text": [
      "{'values': [0, 1, 1]}\n"
     ]
    }
   ],
   "source": [
    "fib_values(3)"
   ]
  },
  {
   "cell_type": "code",
   "execution_count": null,
   "metadata": {},
   "outputs": [],
   "source": []
  }
 ],
 "metadata": {
  "kernelspec": {
   "display_name": "Python 3",
   "language": "python",
   "name": "python3"
  },
  "language_info": {
   "codemirror_mode": {
    "name": "ipython",
    "version": 3
   },
   "file_extension": ".py",
   "mimetype": "text/x-python",
   "name": "python",
   "nbconvert_exporter": "python",
   "pygments_lexer": "ipython3",
   "version": "3.7.1-final"
  }
 },
 "nbformat": 4,
 "nbformat_minor": 2
}