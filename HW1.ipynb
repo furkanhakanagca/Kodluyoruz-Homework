{
 "cells": [
  {
   "cell_type": "markdown",
   "metadata": {},
   "source": [
    "## Soru 1"
   ]
  },
  {
   "cell_type": "code",
   "execution_count": null,
   "metadata": {},
   "outputs": [],
   "source": [
    "Write a code that modifies the given matrix M (with 3 rows and 4 columns), by swapping the (whole) columns 0 and 1.\n",
    "\n",
    "M = [[11, 12, 13, 14], [21, 22, 23, 24], [31, 32, 33, 34]]\n",
    "\n",
    "The matrix M above should become the matrix below;\n",
    "\n",
    "M = [[12, 11, 13, 14], [22, 21, 23, 24], [32, 31, 33, 34]]"
   ]
  },
  {
   "cell_type": "code",
   "execution_count": 1,
   "metadata": {},
   "outputs": [
    {
     "name": "stdout",
     "output_type": "stream",
     "text": [
      "[[12, 11, 13, 14], [22, 21, 23, 24], [32, 31, 33, 34]]\n"
     ]
    }
   ],
   "source": [
    "M = [[11, 12, 13, 14], [21, 22, 23, 24], [31, 32, 33, 34]]\n",
    "for i in range(len(M)):\n",
    "    for j in range (1):\n",
    "        M[i][j],M[i][j+1]=M[i][j+1],M[i][j]\n",
    "print(M)"
   ]
  },
  {
   "cell_type": "markdown",
   "metadata": {},
   "source": [
    "## Soru 2"
   ]
  },
  {
   "cell_type": "code",
   "execution_count": null,
   "metadata": {},
   "outputs": [],
   "source": [
    "Find the maximal element of the matrix M and print the row number and column number of the maximal element as a tuple.\n",
    "\n",
    "M = [[0, 3, 2, 4], [2, 7, 5, 9], [6, 1, 2, 3]]\n",
    "\n",
    "The output of the code should be row number and column number of the maximal element as a tuple. (1,3)"
   ]
  },
  {
   "cell_type": "code",
   "execution_count": 2,
   "metadata": {},
   "outputs": [
    {
     "name": "stdout",
     "output_type": "stream",
     "text": [
      "(1, 3)\n"
     ]
    }
   ],
   "source": [
    "import numpy as np\n",
    "M = [[0, 3, 2, 4], [2, 7, 5, 9], [6, 1, 2, 3]]\n",
    "M_arr = np.array(M)\n",
    "m = ()\n",
    "location = np.where(M_arr == np.amax(M_arr))\n",
    "location_list = list(map(int, location))\n",
    "m = (location_list[0],location_list[1])\n",
    "print(m)"
   ]
  },
  {
   "cell_type": "markdown",
   "metadata": {},
   "source": [
    "## Soru 3"
   ]
  },
  {
   "cell_type": "code",
   "execution_count": null,
   "metadata": {},
   "outputs": [],
   "source": [
    "Given two lists of numbers, count how many unique numbers occur in both of them.\n",
    "\n",
    "For example, on input\n",
    "\n",
    "list_1 = [5, 3, 3, 10, 40]\n",
    "\n",
    "list_2 = [40, 3, 40, 1, 2]\n",
    "\n",
    "output must be\n",
    "\n",
    "6"
   ]
  },
  {
   "cell_type": "code",
   "execution_count": 3,
   "metadata": {},
   "outputs": [
    {
     "data": {
      "text/plain": [
       "6"
      ]
     },
     "execution_count": 3,
     "metadata": {},
     "output_type": "execute_result"
    }
   ],
   "source": [
    "list_1 = [5, 3, 3, 10, 40]\n",
    "list_2 = [40, 3, 40, 1, 2]\n",
    "list_3 = list_1 + list_2\n",
    "len(set([x for x in list_3]))"
   ]
  },
  {
   "cell_type": "markdown",
   "metadata": {},
   "source": [
    "## Soru 4"
   ]
  },
  {
   "cell_type": "code",
   "execution_count": null,
   "metadata": {},
   "outputs": [],
   "source": [
    "We have a dictionary containing the math grades and the student number of 5 students. Calculate the mean of the grades and then prints out the name of the students who are above and below that average(and if any print that are equals to the mean as well):\n",
    "\n",
    "For example if the grades are\n",
    "\n",
    "Jane: 30\n",
    "\n",
    "Pat: 40\n",
    "\n",
    "Denis: 50\n",
    "\n",
    "Max: 60\n",
    "\n",
    "Lara: 70\n",
    "\n",
    "Then the mean is 50\n",
    "\n",
    "your program should print:\n",
    "\n",
    "*\"Grade(s) of Jane and Pat are below the average\"*\n",
    "\n",
    "*\"Grade(s) of Denis is equal to the mean\"*\n",
    "\n",
    "*\"Grade(s) of Max and Lara are above the average\"*\n",
    "\n",
    "\n",
    "\n",
    "# Solve this question using dictionary below\n",
    "students = {\"Jane\":{\"grade\":90,\"student_number\":4012}, \n",
    "          \"Pat\":{\"grade\":81,\"student_number\":4052},\n",
    "          \"Denis\":{\"grade\":70,\"student_number\":4089},\n",
    "          \"Max\":{\"grade\":72,\"student_number\":4322},\n",
    "          \"Lara\":{\"grade\":74,\"student_number\":4042}}"
   ]
  },
  {
   "cell_type": "code",
   "execution_count": 6,
   "metadata": {},
   "outputs": [
    {
     "name": "stdout",
     "output_type": "stream",
     "text": [
      "Average : 77.4\n",
      "Grade(s) of Denis and Max and Lara are below the average\n",
      "No one's grade(s)  is equal to the mean\n",
      "Grade(s) of Jane and Pat are above the average\n"
     ]
    }
   ],
   "source": [
    "students = {\"Jane\":{\"grade\":90,\"student_number\":4012}, \n",
    "          \"Pat\":{\"grade\":81,\"student_number\":4052},\n",
    "          \"Denis\":{\"grade\":70,\"student_number\":4089},\n",
    "          \"Max\":{\"grade\":72,\"student_number\":4322},\n",
    "          \"Lara\":{\"grade\":74,\"student_number\":4042}}\n",
    "\n",
    "upper = []\n",
    "equal = []\n",
    "lower = []\n",
    "   \n",
    "avg = sum(students[person]['grade']/len(students) for person in students)\n",
    "print(\"Average :\" , avg)\n",
    "\n",
    "for i in students:\n",
    "    if(students[i]['grade']>avg):\n",
    "        upper.append(i)\n",
    "    elif (students[i]['grade']<avg):\n",
    "        lower.append(i)\n",
    "    else:\n",
    "        equal.append(i)\n",
    "\n",
    "if len(lower)>1:\n",
    "    print( \"Grade(s) of\", ' and '.join(lower), \"are below the average\")\n",
    "elif len(lower)==1:\n",
    "    print( \"Grade(s) of\", ' ' .join(lower), \"is below the average\")\n",
    "elif len(lower)==0:\n",
    "    print( \"No one's grade(s\", ' ' .join(lower), \"is below the average\")\n",
    "\n",
    "if len(equal)>1:\n",
    "    print( \"Grade(s) of\", ' and '.join(equal), \"are equal to the mean\")\n",
    "elif len(equal)==1:\n",
    "    print( \"Grade(s) of\", ' ' .join(equal), \"is equal to the mean\")\n",
    "elif len(equal)==0:\n",
    "    print( \"No one's grade(s)\", ' ' .join(equal), \"is equal to the mean\")\n",
    "\n",
    "if len(upper)>1:\n",
    "    print( \"Grade(s) of\", ' and '.join(upper), \"are above the average\")\n",
    "elif len(upper)==1:\n",
    "    print( \"Grade(s) of\", ' ' .join(upper), \"is above the average\")\n",
    "elif len(upper)==0:\n",
    "    print( \"No one's grade(s\", ' ' .join(upper), \"is above the average\")    "
   ]
  },
  {
   "cell_type": "markdown",
   "metadata": {},
   "source": [
    "## Soru 5"
   ]
  },
  {
   "cell_type": "code",
   "execution_count": null,
   "metadata": {},
   "outputs": [],
   "source": [
    "A theatre sells batches of 1 to 4 tickets per sale (if available). Initially there are 200 tickets. Write a Python program that repeatedly tells the user how many tickets are left, asks for how many tickets the user wants to buy, indicates minimum and maximum numbers to buy, and reads the user's input. This continues until all tickets have been sold. At the end, the program prints how many sales transactions have been performed. For example, we might have the following interaction:\n",
    "\n",
    "200 tickets remaining\n",
    "\n",
    "How many do you want to buy?\n",
    "\n",
    "Minimum 1, maximum 4\n",
    "\n",
    "3\n",
    "\n",
    "197 tickets remaining\n",
    "\n",
    "How many do you want to buy?\n",
    "\n",
    "Minimum 1, maximum 4\n",
    "\n",
    "4\n",
    "\n",
    "(...)\n",
    "\n",
    "2 tickets remaining\n",
    "\n",
    "How many do you want to buy?\n",
    "\n",
    "Minimum 1, maximum 2\n",
    "\n",
    "2\n",
    "\n",
    "86 sales transactions\n",
    "\n",
    "(You may assume that the user enters the data correctly, i.e., all values are integers between the current minimum and maximum numbers they may buy.)"
   ]
  },
  {
   "cell_type": "code",
   "execution_count": null,
   "metadata": {},
   "outputs": [],
   "source": [
    "tickets = 200\n",
    "sells = 0\n",
    "min_ticket = 1\n",
    "max_tickets = 4\n",
    "counter = 0\n",
    "while sells<200:\n",
    "    \n",
    "    demand=int(input(\"How many do you want to buy?\"))\n",
    "\n",
    "    if demand<=4 and demand>=1:\n",
    "        tickets-=demand\n",
    "        \n",
    "        if tickets>0:\n",
    "            print(tickets, \"Tickets Remaining\")\n",
    " \n",
    "            if tickets>4:\n",
    "                print(\"Minimum\", min_ticket, \"Maximum\", max_tickets)\n",
    "                counter += 1\n",
    "                \n",
    "            elif tickets<1 and tickets>4 and demand<=tickets:\n",
    "                print(\"Minimum\", min_ticket, \"Maximum\", tickets)\n",
    "                counter += 1\n",
    "        else:\n",
    "            print(0, \"Let you know when we get\")\n",
    "            \n",
    "    elif demand>4:\n",
    "        print(\"Unfortunately, you can get limited tickets!\")\n",
    "        \n",
    "    elif demand<1:\n",
    "        print(\"How many do you want to buy?\")\n",
    "        \n",
    "    sells += demand\n",
    "    print(counter, \"Sales Transactions\")\n"
   ]
  },
  {
   "cell_type": "code",
   "execution_count": null,
   "metadata": {},
   "outputs": [],
   "source": []
  }
 ],
 "metadata": {
  "kernelspec": {
   "display_name": "Python 3",
   "language": "python",
   "name": "python3"
  },
  "language_info": {
   "codemirror_mode": {
    "name": "ipython",
    "version": 3
   },
   "file_extension": ".py",
   "mimetype": "text/x-python",
   "name": "python",
   "nbconvert_exporter": "python",
   "pygments_lexer": "ipython3",
   "version": "3.6.12"
  }
 },
 "nbformat": 4,
 "nbformat_minor": 4
}
